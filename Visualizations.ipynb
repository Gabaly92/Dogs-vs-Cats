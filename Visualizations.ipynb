{
 "cells": [
  {
   "cell_type": "code",
   "execution_count": 36,
   "metadata": {
    "collapsed": false
   },
   "outputs": [
    {
     "name": "stderr",
     "output_type": "stream",
     "text": [
      "100%|██████████| 25000/25000 [00:00<00:00, 1309786.78it/s]"
     ]
    },
    {
     "name": "stdout",
     "output_type": "stream",
     "text": [
      "The number of dogs in the dataset is 12500\n",
      "The number of cats in the dataset is 12500\n"
     ]
    },
    {
     "name": "stderr",
     "output_type": "stream",
     "text": [
      "\n"
     ]
    },
    {
     "data": {
      "image/png": "[encoded data removed]",
      "text/plain": [
       "<matplotlib.figure.Figure at 0x113158080>"
      ]
     },
     "metadata": {},
     "output_type": "display_data"
    },
    {
     "name": "stdout",
     "output_type": "stream",
     "text": [
      "[14905, 1610, 1909, 17065, 23145, 4676, 13887, 1811, 10668, 22542]\n",
      "['dog.682.jpg', 'dog.7321.jpg', 'dog.7686.jpg', 'dog.11812.jpg', 'cat.10375.jpg', 'dog.12424.jpg', 'cat.3121.jpg', 'dog.1234.jpg', 'dog.5021.jpg', 'cat.3541.jpg']\n",
      "[(500, 374), (499, 333), (360, 485), (377, 500), (500, 395), (499, 375), (500, 374), (342, 500), (499, 333), (500, 374)]\n"
     ]
    }
   ],
   "source": [
    "# imports\n",
    "import os\n",
    "import matplotlib.pyplot as plt\n",
    "from tqdm import tqdm\n",
    "from PIL import Image\n",
    "import random\n",
    "\n",
    "# Count dogs & cats in the dataset\n",
    "dog_count, cat_count = 0, 0\n",
    "train = os.listdir('train')\n",
    "for filename in tqdm(train):\n",
    "    if \"dog\" in filename:\n",
    "        dog_count+=1\n",
    "    elif \"cat\" in filename:\n",
    "        cat_count+=1\n",
    "print(\"The number of dogs in the dataset is {}\".format(dog_count))\n",
    "print(\"The number of cats in the dataset is {}\".format(cat_count))\n",
    "\n",
    "# Create barplot for dogs & cats count\n",
    "objects = ('dogs', 'cats')\n",
    "y_pos = np.arange(len(objects))\n",
    "count = [dog_count, cat_count]\n",
    "plt.bar(y_pos, count, align='center', alpha=0.8)\n",
    "plt.xticks(y_pos, objects)\n",
    "plt.ylabel('Count')\n",
    "plt.title('Class distribution')\n",
    "plt.show()\n",
    "\n",
    "# Get the dimensions of a random sample of 10 images from the dataset \n",
    "rand_indices = [random.randint(0, len(train)) for i in range(0, 10)]\n",
    "rand_images = [train[rand_indices[i]] for i in range(0, len(rand_indices))]\n",
    "rand_images_dimensions = [Image.open('train/{}'.format(rand_images[i])).size for i in range(0, len(rand_images))]\n",
    "print(rand_indices)\n",
    "print(rand_images)\n",
    "print(rand_images_dimensions)\n"
   ]
  },
  {
   "cell_type": "code",
   "execution_count": null,
   "metadata": {
    "collapsed": true
   },
   "outputs": [],
   "source": []
  }
 ],
 "metadata": {
  "kernelspec": {
   "display_name": "Python 3",
   "language": "python",
   "name": "python3"
  },
  "language_info": {
   "codemirror_mode": {
    "name": "ipython",
    "version": 3
   },
   "file_extension": ".py",
   "mimetype": "text/x-python",
   "name": "python",
   "nbconvert_exporter": "python",
   "pygments_lexer": "ipython3",
   "version": "3.5.3"
  }
 },
 "nbformat": 4,
 "nbformat_minor": 2
}
